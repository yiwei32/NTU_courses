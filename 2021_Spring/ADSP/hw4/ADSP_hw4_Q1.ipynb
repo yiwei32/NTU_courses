{
 "cells": [
  {
   "cell_type": "markdown",
   "metadata": {},
   "source": [
    "## Measure the structural similarity (SSIM) of two gray images A and B\n",
    "The sizes of A and B are equivalent.\n",
    "\n",
    "SSIM(A, B, c1, c2) where c1 and c2 are some adjust constants.\n",
    "\n",
    "The difference with other techniques such as MSE or PSNR is that these approaches estimate absolute errors. Structural information is the idea that the pixels have strong inter-dependencies especially when they are spatially close. These dependencies carry important information about the structure of the objects in the visual scene.\n",
    "\n",
    "ref: https://en.wikipedia.org/wiki/Structural_similarity"
   ]
  },
  {
   "cell_type": "code",
   "execution_count": 1,
   "metadata": {},
   "outputs": [
    {
     "name": "stdout",
     "output_type": "stream",
     "text": [
      "SSIM of baboon_gray and fruit = 0.1058\n",
      "SSIM of baboon_gray and baboon_light = 0.8072 \n"
     ]
    }
   ],
   "source": [
    "import numpy as np\n",
    "from PIL import Image\n",
    "import math\n",
    "\n",
    "L = 255\n",
    "def SSIM(img1, img2, c1= 1/math.sqrt(L), c2= 1/math.sqrt(L)):\n",
    "    img1_array = np.array(img1)\n",
    "    img2_array = np.array(img2)\n",
    "    ux = np.mean(img1_array)\n",
    "    uy = np.mean(img1_array)\n",
    "    var_x = np.var(img1_array)\n",
    "    var_y = np.var(img2_array)\n",
    "    cov_xy = Cov(img1_array, img2_array)\n",
    "    c1Lsqr = (c1*L)**2\n",
    "    c2Lsqr = (c2*L)**2\n",
    "    \n",
    "    return ((2*ux*uy) + c1Lsqr) * (2*cov_xy+c2Lsqr) / (ux**2 + uy**2 + c1Lsqr) / (var_x + var_y + c2Lsqr)\n",
    "\n",
    "def Cov(img1, img2):\n",
    "    h, w = img1.shape\n",
    "    ux = np.mean(img1)\n",
    "    uy = np.mean(img2)\n",
    "    val = 0\n",
    "    for i in range(h):\n",
    "        for j in range(w):\n",
    "            val = val + (img1[i,j] - ux)*(img2[i,j]-uy)\n",
    "    val = val / (h*w)\n",
    "    \n",
    "    return val\n",
    "    \n",
    "\n",
    "img1 = Image.open('./test_images/baboon_gray.png')\n",
    "img2 = Image.open('./test_images/fruit.png')\n",
    "img3 = Image.open('./test_images/baboon_light.png')\n",
    "\n",
    "print(\"SSIM of baboon_gray and fruit = %.4f\" %SSIM(img1, img2))\n",
    "print(\"SSIM of baboon_gray and baboon_light = %.4f \" %SSIM(img1, img3))"
   ]
  }
 ],
 "metadata": {
  "kernelspec": {
   "display_name": "Python 3",
   "language": "python",
   "name": "python3"
  },
  "language_info": {
   "codemirror_mode": {
    "name": "ipython",
    "version": 3
   },
   "file_extension": ".py",
   "mimetype": "text/x-python",
   "name": "python",
   "nbconvert_exporter": "python",
   "pygments_lexer": "ipython3",
   "version": "3.8.8"
  }
 },
 "nbformat": 4,
 "nbformat_minor": 4
}
